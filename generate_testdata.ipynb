{
 "metadata": {
  "name": "",
  "signature": "sha256:3ed1427b7d777df1a580f8521a224e15d04fbebb7313f9a335bcd91c2c205acc"
 },
 "nbformat": 3,
 "nbformat_minor": 0,
 "worksheets": [
  {
   "cells": [
    {
     "cell_type": "code",
     "collapsed": false,
     "input": [
      "import numpy\n",
      "a = numpy.zeros((2, 2, 2, 2))"
     ],
     "language": "python",
     "metadata": {},
     "outputs": [],
     "prompt_number": 3
    },
    {
     "cell_type": "code",
     "collapsed": false,
     "input": [
      "for i in range(2):\n",
      "    for j in range(i+1):\n",
      "        for k in range(i+1):\n",
      "            for l in range(min(j, k)+1):\n",
      "                print i, j, k, l\n",
      "                ijkl = i+j+k+l\n",
      "                a[i, j, k, l] = a[j, i, k, l] = a[i, j, l, k] = a[j, i, l, k] = ijkl\n",
      "                a[k, l, i, j] = a[k, l, j, i] = a[l, k, i, j] = a[l, k, j, i] = ijkl\n",
      "a"
     ],
     "language": "python",
     "metadata": {},
     "outputs": [
      {
       "output_type": "stream",
       "stream": "stdout",
       "text": [
        "0 0 0 0\n",
        "1 0 0 0\n",
        "1 0 1 0\n",
        "1 1 0 0\n",
        "1 1 1 0\n",
        "1 1 1 1\n"
       ]
      },
      {
       "metadata": {},
       "output_type": "pyout",
       "prompt_number": 19,
       "text": [
        "array([[[[ 0.,  1.],\n",
        "         [ 1.,  2.]],\n",
        "\n",
        "        [[ 1.,  2.],\n",
        "         [ 2.,  3.]]],\n",
        "\n",
        "\n",
        "       [[[ 1.,  2.],\n",
        "         [ 2.,  3.]],\n",
        "\n",
        "        [[ 2.,  3.],\n",
        "         [ 3.,  4.]]]])"
       ]
      }
     ],
     "prompt_number": 19
    },
    {
     "cell_type": "code",
     "collapsed": false,
     "input": [
      "d=numpy.outer(numpy.ones(2), numpy.ones(2))\n",
      "d"
     ],
     "language": "python",
     "metadata": {},
     "outputs": [
      {
       "metadata": {},
       "output_type": "pyout",
       "prompt_number": 20,
       "text": [
        "array([[ 1.,  1.],\n",
        "       [ 1.,  1.]])"
       ]
      }
     ],
     "prompt_number": 20
    },
    {
     "cell_type": "code",
     "collapsed": false,
     "input": [
      "numpy.einsum('ij,ijkl', d, a)"
     ],
     "language": "python",
     "metadata": {},
     "outputs": [
      {
       "metadata": {},
       "output_type": "pyout",
       "prompt_number": 21,
       "text": [
        "array([[  4.,   8.],\n",
        "       [  8.,  12.]])"
       ]
      }
     ],
     "prompt_number": 21
    },
    {
     "cell_type": "code",
     "collapsed": false,
     "input": [],
     "language": "python",
     "metadata": {},
     "outputs": []
    }
   ],
   "metadata": {}
  }
 ]
}