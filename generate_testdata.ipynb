{
 "cells": [
  {
   "cell_type": "code",
   "execution_count": 3,
   "id": "8865ed62",
   "metadata": {},
   "outputs": [],
   "source": [
    "import numpy\n",
    "a = numpy.zeros((2, 2, 2, 2))"
   ]
  },
  {
   "cell_type": "code",
   "execution_count": 19,
   "id": "b03a7fb3",
   "metadata": {},
   "outputs": [
    {
     "name": "stdout",
     "output_type": "stream",
     "text": [
      "0 0 0 0\n",
      "1 0 0 0\n",
      "1 0 1 0\n",
      "1 1 0 0\n",
      "1 1 1 0\n",
      "1 1 1 1\n"
     ]
    },
    {
     "data": {
      "text/plain": [
       "array([[[[ 0.,  1.],\n",
       "         [ 1.,  2.]],\n",
       "\n",
       "        [[ 1.,  2.],\n",
       "         [ 2.,  3.]]],\n",
       "\n",
       "\n",
       "       [[[ 1.,  2.],\n",
       "         [ 2.,  3.]],\n",
       "\n",
       "        [[ 2.,  3.],\n",
       "         [ 3.,  4.]]]])"
      ]
     },
     "execution_count": 19,
     "metadata": {},
     "output_type": "execute_result"
    }
   ],
   "source": [
    "for i in range(2):\n",
    "    for j in range(i+1):\n",
    "        for k in range(i+1):\n",
    "            for l in range(min(j, k)+1):\n",
    "                print i, j, k, l\n",
    "                ijkl = i+j+k+l\n",
    "                a[i, j, k, l] = a[j, i, k, l] = a[i, j, l, k] = a[j, i, l, k] = ijkl\n",
    "                a[k, l, i, j] = a[k, l, j, i] = a[l, k, i, j] = a[l, k, j, i] = ijkl\n",
    "a"
   ]
  },
  {
   "cell_type": "code",
   "execution_count": 20,
   "id": "b7fd2971",
   "metadata": {},
   "outputs": [
    {
     "data": {
      "text/plain": [
       "array([[ 1.,  1.],\n",
       "       [ 1.,  1.]])"
      ]
     },
     "execution_count": 20,
     "metadata": {},
     "output_type": "execute_result"
    }
   ],
   "source": [
    "d=numpy.outer(numpy.ones(2), numpy.ones(2))\n",
    "d"
   ]
  },
  {
   "cell_type": "code",
   "execution_count": 21,
   "id": "b1943a9a",
   "metadata": {},
   "outputs": [
    {
     "data": {
      "text/plain": [
       "array([[  4.,   8.],\n",
       "       [  8.,  12.]])"
      ]
     },
     "execution_count": 21,
     "metadata": {},
     "output_type": "execute_result"
    }
   ],
   "source": [
    "numpy.einsum('ij,ijkl', d, a)"
   ]
  },
  {
   "cell_type": "code",
   "execution_count": null,
   "id": "237aff64",
   "metadata": {},
   "outputs": [],
   "source": []
  }
 ],
 "metadata": {
  "kernelspec": {
   "display_name": "Python 3",
   "language": "python",
   "name": "python3"
  },
  "language_info": {
   "codemirror_mode": {
    "name": "ipython",
    "version": 3
   },
   "file_extension": ".py",
   "mimetype": "text/x-python",
   "name": "python",
   "nbconvert_exporter": "python",
   "pygments_lexer": "ipython3",
   "version": "3.9.0"
  }
 },
 "nbformat": 4,
 "nbformat_minor": 1
}
